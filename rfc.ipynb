{
 "cells": [
  {
   "cell_type": "code",
   "execution_count": 1,
   "metadata": {},
   "outputs": [],
   "source": [
    "import pandas as pd\n",
    "import numpy as np\n",
    "import seaborn as sns\n",
    "import sklearn as sk\n",
    "import matplotlib.pyplot as plt\n",
    "from sklearn.model_selection import train_test_split\n",
    "import category_encoders as ce\n",
    "from sklearn.svm import SVR\n",
    "from sklearn.metrics import mean_absolute_error, mean_squared_error, r2_score\n",
    "import math\n",
    "\n",
    "# Load CSV file\n",
    "url = \"car_listing_combined.csv\"\n",
    "df = pd.read_csv(url)\n",
    "\n"
   ]
  },
  {
   "cell_type": "code",
   "execution_count": 2,
   "metadata": {},
   "outputs": [
    {
     "data": {
      "text/plain": [
       "Price           object\n",
       "Year            object\n",
       "Make            object\n",
       "Model           object\n",
       "Mileage         object\n",
       "Transmission    object\n",
       "Fuel Type       object\n",
       "Body Type       object\n",
       "Color           object\n",
       "Engine Size     object\n",
       "NCT Expiry      object\n",
       "Road Tax        object\n",
       "dtype: object"
      ]
     },
     "execution_count": 2,
     "metadata": {},
     "output_type": "execute_result"
    }
   ],
   "source": [
    "df.dtypes"
   ]
  },
  {
   "cell_type": "code",
   "execution_count": 3,
   "metadata": {},
   "outputs": [
    {
     "name": "stderr",
     "output_type": "stream",
     "text": [
      "C:\\Users\\labub\\AppData\\Local\\Temp/ipykernel_9536/3930245160.py:4: FutureWarning: The default value of regex will change from True to False in a future version. In addition, single character regular expressions will *not* be treated as literal strings when regex=True.\n",
      "  df['Price'] = df['Price'].str.replace('.', '')\n"
     ]
    },
    {
     "data": {
      "text/html": [
       "<div>\n",
       "<style scoped>\n",
       "    .dataframe tbody tr th:only-of-type {\n",
       "        vertical-align: middle;\n",
       "    }\n",
       "\n",
       "    .dataframe tbody tr th {\n",
       "        vertical-align: top;\n",
       "    }\n",
       "\n",
       "    .dataframe thead th {\n",
       "        text-align: right;\n",
       "    }\n",
       "</style>\n",
       "<table border=\"1\" class=\"dataframe\">\n",
       "  <thead>\n",
       "    <tr style=\"text-align: right;\">\n",
       "      <th></th>\n",
       "      <th>Price</th>\n",
       "      <th>Year</th>\n",
       "      <th>Make</th>\n",
       "      <th>Model</th>\n",
       "      <th>Mileage</th>\n",
       "      <th>Transmission</th>\n",
       "      <th>Fuel Type</th>\n",
       "      <th>Body Type</th>\n",
       "      <th>Color</th>\n",
       "      <th>Engine Size</th>\n",
       "      <th>NCT Expiry</th>\n",
       "      <th>Road Tax</th>\n",
       "    </tr>\n",
       "  </thead>\n",
       "  <tbody>\n",
       "    <tr>\n",
       "      <th>0</th>\n",
       "      <td>0</td>\n",
       "      <td>2009</td>\n",
       "      <td>Audi</td>\n",
       "      <td>A6</td>\n",
       "      <td>189,000 km</td>\n",
       "      <td>---</td>\n",
       "      <td>Diesel</td>\n",
       "      <td>Saloon</td>\n",
       "      <td>Black</td>\n",
       "      <td>2.0</td>\n",
       "      <td>Jan-24</td>\n",
       "      <td>280</td>\n",
       "    </tr>\n",
       "    <tr>\n",
       "      <th>1</th>\n",
       "      <td>0</td>\n",
       "      <td>2013</td>\n",
       "      <td>Vauxhall</td>\n",
       "      <td>Insignia</td>\n",
       "      <td>207,000 km</td>\n",
       "      <td>Unknown</td>\n",
       "      <td>Diesel</td>\n",
       "      <td>Hatchback</td>\n",
       "      <td>White</td>\n",
       "      <td>2.0</td>\n",
       "      <td>Nov-23</td>\n",
       "      <td>200</td>\n",
       "    </tr>\n",
       "    <tr>\n",
       "      <th>2</th>\n",
       "      <td>0</td>\n",
       "      <td>2016</td>\n",
       "      <td>Other</td>\n",
       "      <td>Other</td>\n",
       "      <td>24,500 km</td>\n",
       "      <td>Automatic</td>\n",
       "      <td>Diesel</td>\n",
       "      <td>Saloon</td>\n",
       "      <td>Black</td>\n",
       "      <td>2.1</td>\n",
       "      <td>Jan-24</td>\n",
       "      <td>---</td>\n",
       "    </tr>\n",
       "    <tr>\n",
       "      <th>3</th>\n",
       "      <td>0</td>\n",
       "      <td>2011</td>\n",
       "      <td>Volkswagen</td>\n",
       "      <td>Golf</td>\n",
       "      <td>350,000 km</td>\n",
       "      <td>Manual</td>\n",
       "      <td>Diesel</td>\n",
       "      <td>Hatchback</td>\n",
       "      <td>Blue</td>\n",
       "      <td>1.6</td>\n",
       "      <td>Jun-23</td>\n",
       "      <td>200</td>\n",
       "    </tr>\n",
       "    <tr>\n",
       "      <th>4</th>\n",
       "      <td>0</td>\n",
       "      <td>2015</td>\n",
       "      <td>BMW</td>\n",
       "      <td>5-Series</td>\n",
       "      <td>260,000 km</td>\n",
       "      <td>Automatic</td>\n",
       "      <td>Diesel</td>\n",
       "      <td>Saloon</td>\n",
       "      <td>White</td>\n",
       "      <td>2.0</td>\n",
       "      <td>Nov-23</td>\n",
       "      <td>190</td>\n",
       "    </tr>\n",
       "  </tbody>\n",
       "</table>\n",
       "</div>"
      ],
      "text/plain": [
       "  Price  Year        Make     Model     Mileage Transmission Fuel Type  \\\n",
       "0     0  2009        Audi        A6  189,000 km          ---    Diesel   \n",
       "1     0  2013    Vauxhall  Insignia  207,000 km      Unknown    Diesel   \n",
       "2     0  2016       Other     Other   24,500 km    Automatic    Diesel   \n",
       "3     0  2011  Volkswagen      Golf  350,000 km       Manual    Diesel   \n",
       "4     0  2015         BMW  5-Series  260,000 km    Automatic    Diesel   \n",
       "\n",
       "   Body Type  Color Engine Size NCT Expiry Road Tax  \n",
       "0     Saloon  Black        2.0      Jan-24      280  \n",
       "1  Hatchback  White        2.0      Nov-23      200  \n",
       "2     Saloon  Black        2.1      Jan-24      ---  \n",
       "3  Hatchback   Blue        1.6      Jun-23      200  \n",
       "4     Saloon  White        2.0      Nov-23      190  "
      ]
     },
     "execution_count": 3,
     "metadata": {},
     "output_type": "execute_result"
    }
   ],
   "source": [
    "df['Price'] = df['Price'].str.replace('€', '')\n",
    "df['Price'] = df['Price'].str.replace('£', '')\n",
    "df['Price'] = df['Price'].str.replace(',', '')\n",
    "df['Price'] = df['Price'].str.replace('.', '')\n",
    "df['Price'] = df['Price'].str.replace('No Price', '0')\n",
    "df.Price.str.extract('(\\d+)')\n",
    "df.Year.str.extract('(\\d+)')\n",
    "df['Engine Size'] = df['Engine Size'].str.replace('litre', '')\n",
    "df.head()"
   ]
  },
  {
   "cell_type": "code",
   "execution_count": 4,
   "metadata": {},
   "outputs": [],
   "source": [
    "df = df[df['Price'].notna()]\n",
    "df = df[df['Year'].notna()]\n",
    "df = df[df['Engine Size'].notna()]\n",
    "df = df[df['Road Tax'].notna()]"
   ]
  },
  {
   "cell_type": "code",
   "execution_count": 5,
   "metadata": {},
   "outputs": [
    {
     "name": "stdout",
     "output_type": "stream",
     "text": [
      "      Price  Year        Make        Model     Mileage Transmission Fuel Type  \\\n",
      "0         0  2009        Audi           A6  189,000 km          ---    Diesel   \n",
      "1         0  2013    Vauxhall     Insignia  207,000 km      Unknown    Diesel   \n",
      "2         0  2016       Other        Other   24,500 km    Automatic    Diesel   \n",
      "3         0  2011  Volkswagen         Golf  350,000 km       Manual    Diesel   \n",
      "4         0  2015         BMW     5-Series  260,000 km    Automatic    Diesel   \n",
      "...     ...   ...         ...          ...         ...          ...       ...   \n",
      "68393     0  2015  Land Rover  Range Rover         ---    Automatic    Diesel   \n",
      "68394     0  2023     Peugeot         3008        0 km       Manual    Diesel   \n",
      "68395     0  2012  Volkswagen         Golf         ---          ---       ---   \n",
      "68396     0  2023     Peugeot       RIFTER        8 km       Manual    Diesel   \n",
      "68397     0  2023     Peugeot       RIFTER        2 km       Manual    Diesel   \n",
      "\n",
      "       Body Type  Color Engine Size NCT Expiry Road Tax  \n",
      "0         Saloon  Black        2.0      Jan-24      280  \n",
      "1      Hatchback  White        2.0      Nov-23      200  \n",
      "2         Saloon  Black        2.1      Jan-24      ---  \n",
      "3      Hatchback   Blue        1.6      Jun-23      200  \n",
      "4         Saloon  White        2.0      Nov-23      190  \n",
      "...          ...    ...         ...        ...      ...  \n",
      "68393        SUV  Black        3.0      Jun-21      750  \n",
      "68394        SUV   Blue        1.5         ---      200  \n",
      "68395        ---    ---         ---        ---      ---  \n",
      "68396        MPV  Brown        1.5         ---      210  \n",
      "68397        MPV   Grey        1.5         ---      ---  \n",
      "\n",
      "[65329 rows x 12 columns]\n"
     ]
    }
   ],
   "source": [
    "print(df)"
   ]
  },
  {
   "cell_type": "code",
   "execution_count": 6,
   "metadata": {},
   "outputs": [],
   "source": [
    "def convert_to_km(df, Mileage):\n",
    "    \"\"\"\n",
    "    Converts a column with mixed units of kilometers and miles to kilometers.\n",
    "\n",
    "    Args:\n",
    "        df (pandas.DataFrame): The dataframe containing the column to convert.\n",
    "        column_name (str): The name of the column to convert.\n",
    "\n",
    "    Returns:\n",
    "        pandas.Series: The converted column as a pandas Series.\n",
    "    \"\"\"\n",
    "    series = df[Mileage].copy()  # create a copy of the column to avoid modifying the original dataframe\n",
    "\n",
    "    # loop over each element in the column\n",
    "    for i, val in series.items():\n",
    "        if isinstance(val, str):\n",
    "            if val.endswith('km'):  # check if the value is in kilometers\n",
    "                km = float(val[:-2].replace(',', ''))  # extract the numeric value of kilometers and remove commas\n",
    "            elif val.endswith('mi'):  # check if the value is in miles\n",
    "                miles = float(val[:-2].replace(',', ''))  # extract the numeric value of the miles and remove commas\n",
    "                km = miles * 1.60934  # convert miles to kilometers\n",
    "            else:\n",
    "                continue  # skip the cell if it's not in km or mi format\n",
    "        else:\n",
    "            km = val  # leave the value unchanged if it's already in kilometers\n",
    "\n",
    "        series[i] = km  # update the value in the series\n",
    "\n",
    "    return series\n"
   ]
  },
  {
   "cell_type": "code",
   "execution_count": 7,
   "metadata": {},
   "outputs": [],
   "source": [
    "df[\"Mileage\"] = convert_to_km(df, 'Mileage')"
   ]
  },
  {
   "cell_type": "code",
   "execution_count": 8,
   "metadata": {},
   "outputs": [
    {
     "data": {
      "text/html": [
       "<div>\n",
       "<style scoped>\n",
       "    .dataframe tbody tr th:only-of-type {\n",
       "        vertical-align: middle;\n",
       "    }\n",
       "\n",
       "    .dataframe tbody tr th {\n",
       "        vertical-align: top;\n",
       "    }\n",
       "\n",
       "    .dataframe thead th {\n",
       "        text-align: right;\n",
       "    }\n",
       "</style>\n",
       "<table border=\"1\" class=\"dataframe\">\n",
       "  <thead>\n",
       "    <tr style=\"text-align: right;\">\n",
       "      <th></th>\n",
       "      <th>Price</th>\n",
       "      <th>Year</th>\n",
       "      <th>Make</th>\n",
       "      <th>Model</th>\n",
       "      <th>Mileage</th>\n",
       "      <th>Transmission</th>\n",
       "      <th>Fuel Type</th>\n",
       "      <th>Body Type</th>\n",
       "      <th>Color</th>\n",
       "      <th>Engine Size</th>\n",
       "      <th>NCT Expiry</th>\n",
       "      <th>Road Tax</th>\n",
       "    </tr>\n",
       "  </thead>\n",
       "  <tbody>\n",
       "    <tr>\n",
       "      <th>0</th>\n",
       "      <td>0</td>\n",
       "      <td>2009</td>\n",
       "      <td>Audi</td>\n",
       "      <td>A6</td>\n",
       "      <td>189000.0</td>\n",
       "      <td>---</td>\n",
       "      <td>Diesel</td>\n",
       "      <td>Saloon</td>\n",
       "      <td>Black</td>\n",
       "      <td>2.0</td>\n",
       "      <td>Jan-24</td>\n",
       "      <td>280</td>\n",
       "    </tr>\n",
       "    <tr>\n",
       "      <th>1</th>\n",
       "      <td>0</td>\n",
       "      <td>2013</td>\n",
       "      <td>Vauxhall</td>\n",
       "      <td>Insignia</td>\n",
       "      <td>207000.0</td>\n",
       "      <td>Unknown</td>\n",
       "      <td>Diesel</td>\n",
       "      <td>Hatchback</td>\n",
       "      <td>White</td>\n",
       "      <td>2.0</td>\n",
       "      <td>Nov-23</td>\n",
       "      <td>200</td>\n",
       "    </tr>\n",
       "    <tr>\n",
       "      <th>2</th>\n",
       "      <td>0</td>\n",
       "      <td>2016</td>\n",
       "      <td>Other</td>\n",
       "      <td>Other</td>\n",
       "      <td>24500.0</td>\n",
       "      <td>Automatic</td>\n",
       "      <td>Diesel</td>\n",
       "      <td>Saloon</td>\n",
       "      <td>Black</td>\n",
       "      <td>2.1</td>\n",
       "      <td>Jan-24</td>\n",
       "      <td>---</td>\n",
       "    </tr>\n",
       "    <tr>\n",
       "      <th>3</th>\n",
       "      <td>0</td>\n",
       "      <td>2011</td>\n",
       "      <td>Volkswagen</td>\n",
       "      <td>Golf</td>\n",
       "      <td>350000.0</td>\n",
       "      <td>Manual</td>\n",
       "      <td>Diesel</td>\n",
       "      <td>Hatchback</td>\n",
       "      <td>Blue</td>\n",
       "      <td>1.6</td>\n",
       "      <td>Jun-23</td>\n",
       "      <td>200</td>\n",
       "    </tr>\n",
       "    <tr>\n",
       "      <th>4</th>\n",
       "      <td>0</td>\n",
       "      <td>2015</td>\n",
       "      <td>BMW</td>\n",
       "      <td>5-Series</td>\n",
       "      <td>260000.0</td>\n",
       "      <td>Automatic</td>\n",
       "      <td>Diesel</td>\n",
       "      <td>Saloon</td>\n",
       "      <td>White</td>\n",
       "      <td>2.0</td>\n",
       "      <td>Nov-23</td>\n",
       "      <td>190</td>\n",
       "    </tr>\n",
       "  </tbody>\n",
       "</table>\n",
       "</div>"
      ],
      "text/plain": [
       "  Price  Year        Make     Model   Mileage Transmission Fuel Type  \\\n",
       "0     0  2009        Audi        A6  189000.0          ---    Diesel   \n",
       "1     0  2013    Vauxhall  Insignia  207000.0      Unknown    Diesel   \n",
       "2     0  2016       Other     Other   24500.0    Automatic    Diesel   \n",
       "3     0  2011  Volkswagen      Golf  350000.0       Manual    Diesel   \n",
       "4     0  2015         BMW  5-Series  260000.0    Automatic    Diesel   \n",
       "\n",
       "   Body Type  Color Engine Size NCT Expiry Road Tax  \n",
       "0     Saloon  Black        2.0      Jan-24      280  \n",
       "1  Hatchback  White        2.0      Nov-23      200  \n",
       "2     Saloon  Black        2.1      Jan-24      ---  \n",
       "3  Hatchback   Blue        1.6      Jun-23      200  \n",
       "4     Saloon  White        2.0      Nov-23      190  "
      ]
     },
     "execution_count": 8,
     "metadata": {},
     "output_type": "execute_result"
    }
   ],
   "source": [
    "df.head()"
   ]
  },
  {
   "cell_type": "code",
   "execution_count": 9,
   "metadata": {},
   "outputs": [],
   "source": [
    "# replace '---' with NaN in 'Price' and 'Year' columns\n",
    "#df['Price'] = df['Price'].replace('---', np.nan)\n",
    "#df['Year'] = df['Year'].replace('---', np.nan)\n",
    "df = df.replace('---', np.nan)\n",
    "\n",
    "# convert the 'Price' and 'Year' columns to float\n",
    "df[['Price', 'Year']] = df[['Price', 'Year']].astype(float)\n"
   ]
  },
  {
   "cell_type": "code",
   "execution_count": 10,
   "metadata": {},
   "outputs": [
    {
     "name": "stdout",
     "output_type": "stream",
     "text": [
      "        Price    Year        Make    Model     Mileage Transmission  \\\n",
      "82        1.0  2005.0       Other    Other   83000.000      Unknown   \n",
      "83        1.0  2007.0        Opel    Astra     185.000       Manual   \n",
      "84        1.0  2008.0     Renault   Laguna     215.000       Manual   \n",
      "85        1.0  2009.0        Opel   Antara     167.000       Manual   \n",
      "87        1.0  2012.0        Ford    Focus  263931.760       Manual   \n",
      "...       ...     ...         ...      ...         ...          ...   \n",
      "65175  9000.0  2013.0      Toyota    Prius  235000.000    Automatic   \n",
      "65192  9450.0  2015.0  Volkswagen    Caddy  165762.020       Manual   \n",
      "65215  9900.0  2017.0      Nissan  Qashqai  197466.018       Manual   \n",
      "65228  9995.0  2012.0       Honda     CR-V  122309.840    Automatic   \n",
      "65235  9995.0  2016.0       Honda     Jazz   24140.100       Manual   \n",
      "\n",
      "           Fuel Type  Body Type   Color Engine Size NCT Expiry Road Tax  \n",
      "82            Petrol     Saloon   Black        2.0      Mar-21      710  \n",
      "83            Petrol  Hatchback   Black        1.4      Oct-23      385  \n",
      "84            Diesel  Hatchback   Black        1.5      Sep-23      270  \n",
      "85            Diesel        SUV  Silver        2.0      Aug-23     1200  \n",
      "87            Diesel  Hatchback   Black        1.6      Sep-23      190  \n",
      "...              ...        ...     ...         ...        ...      ...  \n",
      "65175  Petrol Hybrid  Hatchback  Silver        1.8      May-23      170  \n",
      "65192         Diesel        Van    Blue        1.6      Jun-23      182  \n",
      "65215         Diesel        SUV    Blue        1.5      Jul-23      165  \n",
      "65228         Diesel        SUV  Silver        2.2      Jan-24      290  \n",
      "65235         Petrol  Hatchback  Silver        1.3      Sep-23       30  \n",
      "\n",
      "[38168 rows x 12 columns]\n"
     ]
    }
   ],
   "source": [
    "df.dropna(inplace=True)\n",
    "\n",
    "# drop rows with 0 values\n",
    "df = df[(df != 0).all(1)]\n",
    "print(df)"
   ]
  },
  {
   "cell_type": "code",
   "execution_count": 11,
   "metadata": {},
   "outputs": [],
   "source": [
    "df[['Engine Size','Road Tax']] = df[['Engine Size', 'Road Tax']].astype(float)"
   ]
  },
  {
   "cell_type": "code",
   "execution_count": 12,
   "metadata": {},
   "outputs": [
    {
     "name": "stdout",
     "output_type": "stream",
     "text": [
      "        Price    Year        Make    Model Transmission      Fuel Type  \\\n",
      "82        1.0  2005.0       Other    Other      Unknown         Petrol   \n",
      "83        1.0  2007.0        Opel    Astra       Manual         Petrol   \n",
      "84        1.0  2008.0     Renault   Laguna       Manual         Diesel   \n",
      "85        1.0  2009.0        Opel   Antara       Manual         Diesel   \n",
      "87        1.0  2012.0        Ford    Focus       Manual         Diesel   \n",
      "...       ...     ...         ...      ...          ...            ...   \n",
      "65175  9000.0  2013.0      Toyota    Prius    Automatic  Petrol Hybrid   \n",
      "65192  9450.0  2015.0  Volkswagen    Caddy       Manual         Diesel   \n",
      "65215  9900.0  2017.0      Nissan  Qashqai       Manual         Diesel   \n",
      "65228  9995.0  2012.0       Honda     CR-V    Automatic         Diesel   \n",
      "65235  9995.0  2016.0       Honda     Jazz       Manual         Petrol   \n",
      "\n",
      "       Body Type  Engine Size  Road Tax     Mileage  \n",
      "82        Saloon          2.0     710.0   83000.000  \n",
      "83     Hatchback          1.4     385.0     185.000  \n",
      "84     Hatchback          1.5     270.0     215.000  \n",
      "85           SUV          2.0    1200.0     167.000  \n",
      "87     Hatchback          1.6     190.0  263931.760  \n",
      "...          ...          ...       ...         ...  \n",
      "65175  Hatchback          1.8     170.0  235000.000  \n",
      "65192        Van          1.6     182.0  165762.020  \n",
      "65215        SUV          1.5     165.0  197466.018  \n",
      "65228        SUV          2.2     290.0  122309.840  \n",
      "65235  Hatchback          1.3      30.0   24140.100  \n",
      "\n",
      "[38168 rows x 10 columns]\n"
     ]
    },
    {
     "name": "stderr",
     "output_type": "stream",
     "text": [
      "C:\\Users\\labub\\AppData\\Local\\Packages\\PythonSoftwareFoundation.Python.3.9_qbz5n2kfra8p0\\LocalCache\\local-packages\\Python39\\site-packages\\pandas\\util\\_decorators.py:311: SettingWithCopyWarning: \n",
      "A value is trying to be set on a copy of a slice from a DataFrame\n",
      "\n",
      "See the caveats in the documentation: https://pandas.pydata.org/pandas-docs/stable/user_guide/indexing.html#returning-a-view-versus-a-copy\n",
      "  return func(*args, **kwargs)\n"
     ]
    }
   ],
   "source": [
    "dfx = df[['Price','Year','Make','Model','Transmission','Fuel Type','Body Type','Engine Size','Road Tax','Mileage']]\n",
    "dfx.dropna(inplace=True)\n",
    "print(dfx)"
   ]
  },
  {
   "cell_type": "code",
   "execution_count": 13,
   "metadata": {},
   "outputs": [
    {
     "data": {
      "text/html": [
       "<div>\n",
       "<style scoped>\n",
       "    .dataframe tbody tr th:only-of-type {\n",
       "        vertical-align: middle;\n",
       "    }\n",
       "\n",
       "    .dataframe tbody tr th {\n",
       "        vertical-align: top;\n",
       "    }\n",
       "\n",
       "    .dataframe thead th {\n",
       "        text-align: right;\n",
       "    }\n",
       "</style>\n",
       "<table border=\"1\" class=\"dataframe\">\n",
       "  <thead>\n",
       "    <tr style=\"text-align: right;\">\n",
       "      <th></th>\n",
       "      <th>Price</th>\n",
       "      <th>Year</th>\n",
       "      <th>Engine Size</th>\n",
       "      <th>Road Tax</th>\n",
       "      <th>Mileage</th>\n",
       "    </tr>\n",
       "  </thead>\n",
       "  <tbody>\n",
       "    <tr>\n",
       "      <th>Price</th>\n",
       "      <td>1.000000</td>\n",
       "      <td>0.198726</td>\n",
       "      <td>0.322364</td>\n",
       "      <td>0.042304</td>\n",
       "      <td>-0.007849</td>\n",
       "    </tr>\n",
       "    <tr>\n",
       "      <th>Year</th>\n",
       "      <td>0.198726</td>\n",
       "      <td>1.000000</td>\n",
       "      <td>-0.036878</td>\n",
       "      <td>-0.098940</td>\n",
       "      <td>-0.002297</td>\n",
       "    </tr>\n",
       "    <tr>\n",
       "      <th>Engine Size</th>\n",
       "      <td>0.322364</td>\n",
       "      <td>-0.036878</td>\n",
       "      <td>1.000000</td>\n",
       "      <td>0.497711</td>\n",
       "      <td>0.000492</td>\n",
       "    </tr>\n",
       "    <tr>\n",
       "      <th>Road Tax</th>\n",
       "      <td>0.042304</td>\n",
       "      <td>-0.098940</td>\n",
       "      <td>0.497711</td>\n",
       "      <td>1.000000</td>\n",
       "      <td>0.001490</td>\n",
       "    </tr>\n",
       "    <tr>\n",
       "      <th>Mileage</th>\n",
       "      <td>-0.007849</td>\n",
       "      <td>-0.002297</td>\n",
       "      <td>0.000492</td>\n",
       "      <td>0.001490</td>\n",
       "      <td>1.000000</td>\n",
       "    </tr>\n",
       "  </tbody>\n",
       "</table>\n",
       "</div>"
      ],
      "text/plain": [
       "                Price      Year  Engine Size  Road Tax   Mileage\n",
       "Price        1.000000  0.198726     0.322364  0.042304 -0.007849\n",
       "Year         0.198726  1.000000    -0.036878 -0.098940 -0.002297\n",
       "Engine Size  0.322364 -0.036878     1.000000  0.497711  0.000492\n",
       "Road Tax     0.042304 -0.098940     0.497711  1.000000  0.001490\n",
       "Mileage     -0.007849 -0.002297     0.000492  0.001490  1.000000"
      ]
     },
     "execution_count": 13,
     "metadata": {},
     "output_type": "execute_result"
    }
   ],
   "source": [
    "dfx = dfx.drop(dfx[dfx.Mileage <= 5000].index)\n",
    "dfx = dfx.drop(dfx[dfx.Price <= 1234].index)\n",
    "dfx = dfx.drop(dfx[dfx.Price >= 100000].index)\n",
    "#dfx[\"Usage\"] = dfx[\"Mileage\"] / (2023 - dfx[\"Year\"])\n",
    "dfx.corr()\n"
   ]
  },
  {
   "cell_type": "code",
   "execution_count": 14,
   "metadata": {},
   "outputs": [],
   "source": [
    "from sklearn.preprocessing import LabelEncoder\n",
    "from sklearn.ensemble import RandomForestRegressor\n",
    "from sklearn.metrics import mean_squared_error\n",
    "from sklearn.model_selection import train_test_split\n",
    "import joblib\n",
    "import pandas as pd\n",
    "import numpy as np\n",
    "\n",
    "\n",
    "# Preprocessing: Fill missing values and handle infinity values\n",
    "for column in dfx.columns:\n",
    "    if dfx[column].dtype == np.float64 or dfx[column].dtype == np.int64:\n",
    "        dfx[column].fillna(dfx[column].mean(), inplace=True)\n",
    "        dfx[column] = np.where(np.isinf(dfx[column]), dfx[column].mean(), dfx[column])\n",
    "    else:\n",
    "        dfx[column].fillna(dfx[column].mode()[0], inplace=True)\n",
    "\n",
    "# Encode categorical features using label encoding\n",
    "categorical_columns = ['Make', 'Model', 'Transmission', 'Fuel Type', 'Body Type']\n",
    "label_encoders = {}\n",
    "\n",
    "for column in categorical_columns:\n",
    "    le = LabelEncoder()\n",
    "    dfx[column] = le.fit_transform(dfx[column])\n",
    "    label_encoders[column] = le\n",
    "\n",
    "# Split the data into training and testing sets\n",
    "X = dfx.drop('Price', axis=1)\n",
    "y = dfx['Price']\n",
    "X_train, X_test, y_train, y_test = train_test_split(X, y, test_size=0.2, random_state=42)\n",
    "\n",
    "# Scale the data\n",
    "scaler = StandardScaler()\n",
    "X_train_scaled = scaler.fit_transform(X_train)\n",
    "X_test_scaled = scaler.transform(X_test)"
   ]
  },
  {
   "cell_type": "code",
   "execution_count": 15,
   "metadata": {},
   "outputs": [],
   "source": [
    "X_train = X_train.dropna()\n",
    "y_train = y_train.dropna()"
   ]
  },
  {
   "cell_type": "code",
   "execution_count": 16,
   "metadata": {},
   "outputs": [],
   "source": [
    "X_train = X_train.astype(np.float64)\n",
    "y_train = y_train.astype(np.float64)"
   ]
  },
  {
   "cell_type": "code",
   "execution_count": 17,
   "metadata": {},
   "outputs": [],
   "source": [
    "from sklearn.ensemble import RandomForestClassifier\n",
    "\n",
    "X_train, X_test, y_train, y_test = train_test_split(X, y, test_size=0.2, random_state=42)\n",
    "\n",
    "rfc = RandomForestClassifier(n_estimators=25, random_state=42)\n",
    "rfc.fit(X_train, y_train)\n",
    "\n",
    "# Step 5: Save the model, input data, and encoders for future use\n",
    "joblib.dump(rfc, 'rfc_model3.pkl')\n",
    "joblib.dump(label_encoders, 'label_encoders3.pkl')\n",
    "dfx.to_csv('input_data3.csv', index=False)\n",
    "\n",
    "# Step 6: Load the model, input data, and encoders, and test the model\n",
    "loaded_rfc = joblib.load('rfc_model3.pkl')\n",
    "loaded_label_encoders = joblib.load('label_encoders3.pkl')\n",
    "loaded_dfx = pd.read_csv('input_data3.csv')\n",
    "\n",
    "# Prepare test data (assuming it's in the same format as the input data)\n",
    "test_data = loaded_dfx.drop('Price', axis=1)\n",
    "test_labels = loaded_dfx['Price']\n",
    "\n",
    "\n",
    "\n"
   ]
  },
  {
   "cell_type": "code",
   "execution_count": 18,
   "metadata": {},
   "outputs": [
    {
     "name": "stdout",
     "output_type": "stream",
     "text": [
      "Accuracy: 0.8054513352460826\n",
      "Confusion Matrix:\n",
      " [[22  0  0 ...  0  0  0]\n",
      " [ 0  1  0 ...  0  0  0]\n",
      " [ 0  0 14 ...  0  0  0]\n",
      " ...\n",
      " [ 0  0  0 ...  5  0  0]\n",
      " [ 0  0  0 ...  0  1  0]\n",
      " [ 0  0  0 ...  0  0  1]]\n"
     ]
    }
   ],
   "source": [
    "# Test the model\n",
    "predictions = loaded_rfc.predict(test_data)\n",
    "\n",
    "accuracy = accuracy_score(test_labels, predictions)\n",
    "confusion_mat = confusion_matrix(test_labels, predictions)\n",
    "print(\"Accuracy:\", accuracy)\n",
    "print(\"Confusion Matrix:\\n\", confusion_mat)\n"
   ]
  },
  {
   "cell_type": "code",
   "execution_count": 20,
   "metadata": {},
   "outputs": [
    {
     "name": "stdout",
     "output_type": "stream",
     "text": [
      "Predicted price: 17750.0\n"
     ]
    },
    {
     "name": "stderr",
     "output_type": "stream",
     "text": [
      "C:\\Users\\labub\\AppData\\Local\\Packages\\PythonSoftwareFoundation.Python.3.9_qbz5n2kfra8p0\\LocalCache\\local-packages\\Python39\\site-packages\\sklearn\\base.py:445: UserWarning: X does not have valid feature names, but RandomForestClassifier was fitted with feature names\n",
      "  warnings.warn(\n"
     ]
    }
   ],
   "source": [
    "# Example: Predict the price of a specific car\n",
    "# Create a sample input with the format: ['Year', 'Make', 'Model', 'Transmission', 'Fuel Type','Engine Size','Road Tax']\n",
    "sample_input = [2016, 'Audi', 'A3', 'Automatic', 'Petrol', 'Saloon', 1.4, 190, 217000]\n",
    "\n",
    "# Encode the categorical features using the loaded encoders\n",
    "for i, column in enumerate(categorical_columns):\n",
    "    sample_input[i + 1] = loaded_label_encoders[column].transform([sample_input[i + 1]])[0]\n",
    "\n",
    "# Make the prediction using the loaded RFC model\n",
    "predicted_price = loaded_rfc.predict([sample_input])\n",
    "print(\"Predicted price:\", predicted_price[0])\n"
   ]
  },
  {
   "cell_type": "code",
   "execution_count": null,
   "metadata": {},
   "outputs": [],
   "source": []
  },
  {
   "cell_type": "code",
   "execution_count": null,
   "metadata": {},
   "outputs": [],
   "source": []
  },
  {
   "cell_type": "code",
   "execution_count": null,
   "metadata": {},
   "outputs": [],
   "source": [
    "\n"
   ]
  },
  {
   "cell_type": "code",
   "execution_count": null,
   "metadata": {},
   "outputs": [],
   "source": []
  },
  {
   "cell_type": "code",
   "execution_count": null,
   "metadata": {},
   "outputs": [],
   "source": []
  },
  {
   "cell_type": "code",
   "execution_count": null,
   "metadata": {},
   "outputs": [],
   "source": []
  },
  {
   "cell_type": "code",
   "execution_count": null,
   "metadata": {},
   "outputs": [],
   "source": []
  },
  {
   "cell_type": "code",
   "execution_count": null,
   "metadata": {},
   "outputs": [],
   "source": []
  },
  {
   "cell_type": "code",
   "execution_count": null,
   "metadata": {},
   "outputs": [],
   "source": []
  },
  {
   "cell_type": "code",
   "execution_count": null,
   "metadata": {},
   "outputs": [],
   "source": []
  },
  {
   "cell_type": "code",
   "execution_count": null,
   "metadata": {},
   "outputs": [],
   "source": []
  },
  {
   "cell_type": "code",
   "execution_count": null,
   "metadata": {},
   "outputs": [],
   "source": []
  }
 ],
 "metadata": {
  "kernelspec": {
   "display_name": "Python 3",
   "language": "python",
   "name": "python3"
  },
  "language_info": {
   "codemirror_mode": {
    "name": "ipython",
    "version": 3
   },
   "file_extension": ".py",
   "mimetype": "text/x-python",
   "name": "python",
   "nbconvert_exporter": "python",
   "pygments_lexer": "ipython3",
   "version": "3.9.13"
  },
  "orig_nbformat": 4,
  "vscode": {
   "interpreter": {
    "hash": "ae8bad59675e2eac1c514a348d6227b132e6b90520b491eba9fbd32eb1075096"
   }
  }
 },
 "nbformat": 4,
 "nbformat_minor": 2
}
